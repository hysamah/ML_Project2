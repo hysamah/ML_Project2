{
 "cells": [
  {
   "cell_type": "code",
   "execution_count": 2,
   "metadata": {},
   "outputs": [
    {
     "name": "stderr",
     "output_type": "stream",
     "text": [
      "/root/miniconda3/envs/ml/lib/python3.10/site-packages/tqdm/auto.py:22: TqdmWarning: IProgress not found. Please update jupyter and ipywidgets. See https://ipywidgets.readthedocs.io/en/stable/user_install.html\n",
      "  from .autonotebook import tqdm as notebook_tqdm\n"
     ]
    },
    {
     "name": "stdout",
     "output_type": "stream",
     "text": [
      "['train_neg.txt', 'train_pos.txt', 'sample_submission.csv', 'test_data.txt', 'train_neg_clean.txt', 'train_pos_clean.txt', 'test_data_clean.txt']\n"
     ]
    }
   ],
   "source": [
    "%load_ext autoreload\n",
    "%autoreload 2\n",
    "from course_helpers import *\n",
    "from helpers import *\n",
    "from tqdm import tqdm\n",
    "from sklearn.metrics import accuracy_score\n",
    "\n",
    "import torch\n",
    "from torch.nn import Sequential, Module, LSTM, ReLU, Linear, Sigmoid, Dropout, Embedding\n",
    "import torchvision\n",
    "# PyTorch TensorBoard support\n",
    "from torch.utils.tensorboard import SummaryWriter\n",
    "from torch.utils.data.dataloader import default_collate\n",
    "from datetime import datetime\n",
    "import torch.nn.functional as F\n",
    "import os\n",
    "import matplotlib.pyplot as plt\n",
    "\n",
    "os.environ['CUDA_LAUNCH_BLOCKING'] = \"1\"\n",
    "\n",
    "##data preprocessing \n",
    "DATA_PATH = 'twitter-datasets'\n",
    "Dataset = read(DATA_PATH)\n",
    "\n",
    "#@title read dataset file\n"
   ]
  },
  {
   "cell_type": "code",
   "execution_count": 4,
   "metadata": {},
   "outputs": [],
   "source": [
    "# Dataset = clean(Dataset)\n",
    "# save_to_file(Dataset)"
   ]
  },
  {
   "cell_type": "code",
   "execution_count": 5,
   "metadata": {},
   "outputs": [],
   "source": [
    "!bash course_helpers.sh\n",
    "##Run this in terminal"
   ]
  },
  {
   "cell_type": "code",
   "execution_count": 6,
   "metadata": {},
   "outputs": [],
   "source": [
    "vocab_cut = 'vocab_cut.txt'\n",
    "vocab_pkl = 'vocab_pkl.pkl'\n",
    "coco_pkl = 'coco_pkl.pkl'\n",
    "embd = 'embeddings'"
   ]
  },
  {
   "cell_type": "code",
   "execution_count": 7,
   "metadata": {},
   "outputs": [],
   "source": [
    "# pickle_vocab(vocab_cut, vocab_pkl)\n",
    "# cooc_(vocab_pkl, DATA_PATH, coco_pkl)\n",
    "# glove(coco_pkl, embd)\n",
    "# with open(coco_pkl, \"rb\") as f:\n",
    "#         cooc = pickle.load(f)\n",
    "# print(cooc.shape)\n",
    "# with open(vocab_pkl, \"rb\") as f:\n",
    "#         vocab = pickle.load(f)\n",
    "# print(len(vocab))"
   ]
  },
  {
   "cell_type": "code",
   "execution_count": 4,
   "metadata": {},
   "outputs": [
    {
     "name": "stdout",
     "output_type": "stream",
     "text": [
      "(17971, 20)\n"
     ]
    }
   ],
   "source": [
    "\n",
    "embedding = np.load(embd+'.npy')\n",
    "print(embedding.shape)\n",
    "glove_embd = embedding"
   ]
  },
  {
   "cell_type": "code",
   "execution_count": 9,
   "metadata": {},
   "outputs": [],
   "source": [
    "# train_pos, train_neg, test_set = read_data(Dataset)\n",
    "# train_set = pd.concat([train_pos, train_neg],  axis=0, ignore_index=True)\n",
    "# train_set = pd.concat([train_set.drop(labels='sentiment', axis=1), train_set['sentiment']], axis = 1)\n",
    "\n",
    "# train_set.loc[:, train_set.columns!='sentiment'] = train_set.applymap(lambda x: find_token(x, vocab))\n",
    "# test_set2 =  test_set.applymap(lambda x: find_token(x, vocab))\n",
    "# train_set.to_csv('train_set_token.csv', index= False)\n",
    "# test_set2.to_csv('test_set_token.csv', index= False)"
   ]
  },
  {
   "cell_type": "code",
   "execution_count": 5,
   "metadata": {},
   "outputs": [],
   "source": [
    "test_set = pd.read_csv('test_set_token.csv')\n",
    "train_set = pd.read_csv('train_set_token.csv', )\n",
    "num_embeddings  = glove_embd.shape[0]\n",
    "embed_dim = glove_embd.shape[1]\n",
    "max_len = train_set.shape[1]-1\n",
    "batch_size = 16\n",
    "n_batches = train_set.shape[0]/batch_size\n",
    "\n",
    "X_train = train_set.loc[:, train_set.columns!='sentiment']\n",
    "Y_train = train_set['sentiment']\n",
    "device = torch.device('cpu')\n",
    "if torch.cuda.is_available():\n",
    "    device = torch.device('cuda')\n",
    "glove_embd = torch.tensor(glove_embd)"
   ]
  },
  {
   "cell_type": "code",
   "execution_count": 77,
   "metadata": {},
   "outputs": [
    {
     "data": {
      "text/plain": [
       "<BarContainer object of 144 artists>"
      ]
     },
     "execution_count": 77,
     "metadata": {},
     "output_type": "execute_result"
    },
    {
     "data": {
      "image/png": "[encoded data removed]",
      "text/plain": [
       "<Figure size 640x480 with 1 Axes>"
      ]
     },
     "metadata": {},
     "output_type": "display_data"
    }
   ],
   "source": [
    "#histogram of number of tokens per tweet\n",
    "histogram = X_train\n",
    "histogram['num_uniq'] = histogram.apply(pd.Series.nunique, axis=1)\n",
    "histogram = histogram['num_uniq']\n",
    "hist,bins = np.histogram(histogram,bins = [i for i in range(0, 145, 1)]) \n",
    "plt.bar(bins[:-1], hist)"
   ]
  },
  {
   "cell_type": "code",
   "execution_count": 27,
   "metadata": {},
   "outputs": [],
   "source": [
    "data_split = (X_train.shape[0]*0.2)%batch_size\n",
    "data_split  = X_train.shape[0]*0.2 - data_split\n",
    "data_split=data_split/2\n",
    "remd = -data_split + X_train.shape[0] - data_split\n",
    "addedv = remd%data_split\n"
   ]
  },
  {
   "cell_type": "code",
   "execution_count": 28,
   "metadata": {},
   "outputs": [],
   "source": [
    "X_val =  torch.tensor(pd.concat([X_train[:int(data_split)], X_train[-int(data_split):]],  axis=0, ignore_index=True).reset_index(drop=True).to_numpy()).to(device)\n",
    "Y_val =  torch.tensor(pd.concat([Y_train[:int(data_split)], Y_train[-int(data_split):]],  axis=0, ignore_index=True).reset_index(drop=True).to_numpy(dtype='float32')).to(device)\n",
    "X_train = torch.tensor(X_train[int(data_split+addedv):-int(data_split)].reset_index(drop=True).to_numpy()).to(device)\n",
    "Y_train =  torch.tensor(Y_train[int(data_split+addedv):-int(data_split)].reset_index(drop=True).to_numpy(dtype='float32')).to(device)"
   ]
  },
  {
   "cell_type": "code",
   "execution_count": 29,
   "metadata": {},
   "outputs": [],
   "source": [
    "X_test =  torch.tensor(test_set.to_numpy()).to(device)\n"
   ]
  },
  {
   "cell_type": "code",
   "execution_count": 30,
   "metadata": {},
   "outputs": [],
   "source": [
    "class make_torch_dataset(torch.utils.data.Dataset):\n",
    "    def __init__(self, encodings, labels=[]):\n",
    "        self.encodings = encodings\n",
    "        self.labels = labels\n",
    "\n",
    "    def __getitem__(self, idx):\n",
    "        inp = self.encodings[idx]\n",
    "        label = self.labels[idx]\n",
    "        return inp, label\n",
    "\n",
    "    def __len__(self):\n",
    "        return len(self.encodings)\n",
    "\n",
    "class make_torch_testset(torch.utils.data.Dataset):\n",
    "    def __init__(self, encodings):\n",
    "        self.encodings = encodings\n",
    "\n",
    "    def __getitem__(self, idx):\n",
    "        inp = self.encodings[idx]\n",
    "        return inp\n",
    "\n",
    "    def __len__(self):\n",
    "        return len(self.encodings)\n",
    "\n",
    "train_dataset = make_torch_dataset(X_train, Y_train)\n",
    "val_dataset = make_torch_dataset(X_val, Y_val)\n",
    "test_dataset = make_torch_testset(X_test)"
   ]
  },
  {
   "cell_type": "code",
   "execution_count": 31,
   "metadata": {},
   "outputs": [
    {
     "name": "stdout",
     "output_type": "stream",
     "text": [
      "Training set has 143552 instances\n",
      "Validation set has 35888 instances\n",
      "Test set has 10000 instances\n"
     ]
    }
   ],
   "source": [
    "# Create data loaders for our datasets; shuffle for training, not for validation\n",
    "training_loader = torch.utils.data.DataLoader(train_dataset, batch_size=batch_size, shuffle=True, num_workers=0)\n",
    "validation_loader = torch.utils.data.DataLoader(val_dataset, batch_size=batch_size, shuffle=False, num_workers=0)\n",
    "test_loader = torch.utils.data.DataLoader(test_dataset, batch_size=batch_size, shuffle=False, num_workers=0)\n",
    "\n",
    "# Report split sizes\n",
    "print('Training set has {} instances'.format(len(train_dataset)))\n",
    "print('Validation set has {} instances'.format(len(val_dataset)))\n",
    "print('Test set has {} instances'.format(len(test_dataset)))"
   ]
  },
  {
   "cell_type": "code",
   "execution_count": 32,
   "metadata": {},
   "outputs": [],
   "source": [
    "\n",
    "class lstm_classifier(Module):\n",
    "    def __init__(self, num_embeddings, embed_dim, glove_embd, max_len) -> None:\n",
    "        super().__init__()\n",
    "        self.emd =  Embedding(num_embeddings= num_embeddings, embedding_dim= embed_dim, _weight=glove_embd)\n",
    "        self.lstm1 = LSTM(input_size = embed_dim, hidden_size = 256, bidirectional = True, batch_first  = True)\n",
    "        self.lstm2 = LSTM(input_size = 512, hidden_size = 150, bidirectional = True,  batch_first  = True)\n",
    "        self.fc1 = Linear(300,128)\n",
    "        self.drp = Dropout(0.1)\n",
    "        self.fc2 = Linear(128, 64)\n",
    "        self.fc3 = Linear(64,1)\n",
    "        self.reg = Sigmoid()\n",
    "\n",
    "\n",
    "    def forward(self, x):\n",
    "        x = self.emd(x)\n",
    "        x = x.to(torch.float32)\n",
    "        x, states = self.lstm1(x)\n",
    "        x, states = self.lstm2(x)\n",
    "        x = F.relu(self.fc1(x[:,0]))\n",
    "        x = self.drp(x)\n",
    "        x = F.relu(self.fc2(x))\n",
    "        x = self.fc3(x)\n",
    "        x = self.reg(x)\n",
    "        x = x.reshape(x.shape[0])\n",
    "\n",
    "        return x\n",
    "model = lstm_classifier(num_embeddings, embed_dim, glove_embd, max_len).to(device)\n",
    "loss_fn = torch.nn.BCELoss()\n",
    "optimizer = torch.optim.Adam(model.parameters(), lr=0.001)"
   ]
  },
  {
   "cell_type": "code",
   "execution_count": 33,
   "metadata": {},
   "outputs": [],
   "source": [
    "def train_one_epoch(epoch_index, tb_writer):\n",
    "    running_loss = 0.\n",
    "    last_loss = 0.\n",
    "    running_accuracy = 0.0\n",
    "\n",
    "    # Here, we use enumerate(training_loader) instead of\n",
    "    # iter(training_loader) so that we can track the batch\n",
    "    # index and do some intra-epoch reporting\n",
    "\n",
    "    with tqdm(training_loader, unit=\"batch\") as tepoch:\n",
    "        for i, data in enumerate(tepoch):\n",
    "            tepoch.set_description(f\"Epoch {epoch_index}\")\n",
    "\n",
    "\n",
    "    #for i, data in enumerate(tqdm(training_loader), unit= \"batches\", ):\n",
    "            # Every data instance is an input + label pair\n",
    "            inputs, labels = data\n",
    "\n",
    "            # Zero your gradients for every batch!\n",
    "            optimizer.zero_grad()\n",
    "\n",
    "\n",
    "            # Make predictions for this batch\n",
    "            outputs = model(inputs)\n",
    "            accuracy  = accuracy_score(labels.cpu(), [1 if x > 0.5 else 0 for x in outputs.cpu()])\n",
    "            # Compute the loss and its gradients\n",
    "            loss = loss_fn(outputs, labels)\n",
    "            loss.backward()\n",
    "\n",
    "            # Adjust learning weights\n",
    "            optimizer.step()\n",
    "            # Gather data and report\n",
    "            running_loss += loss.item()\n",
    "            running_accuracy += accuracy\n",
    "\n",
    "            tepoch.set_postfix(loss=loss.item(), accuracy = accuracy)\n",
    "            if i % batch_size == batch_size-1:\n",
    "                last_loss = running_loss / batch_size # loss per batch\n",
    "                #print('  epoch {} batch {} loss: {}'.format(epoch_index, (i + 1)/batch_size, last_loss))\n",
    "                tb_x = epoch_index * len(training_loader) + i + 1\n",
    "                #print(tb_x)\n",
    "                tb_writer.add_scalar('Loss/train', last_loss, global_step = tb_x)\n",
    "                running_loss = 0.\n",
    "\n",
    "    return last_loss, running_accuracy/i"
   ]
  },
  {
   "cell_type": "code",
   "execution_count": null,
   "metadata": {},
   "outputs": [],
   "source": [
    "# Initializing in a separate cell so we can easily add more epochs to the same run\n",
    "timestamp = datetime.now().strftime('%Y%m%d_%H%M%S')\n",
    "writer = SummaryWriter('runs/fashion_trainer_{}'.format(timestamp))\n",
    "epoch_number = 0\n",
    "\n",
    "EPOCHS = 5\n",
    "\n",
    "best_vloss = 1_000_000.\n",
    "\n",
    "\n",
    "\n",
    "for epoch in range(EPOCHS):\n",
    "    print('EPOCH {}:'.format(epoch + 1))\n",
    "\n",
    "    # Make sure gradient tracking is on, and do a pass over the data\n",
    "    model.train(True)\n",
    "    avg_loss, acc = train_one_epoch(epoch, writer)\n",
    "\n",
    "    # # We don't need gradients on to do reporting\n",
    "    model.train(False)\n",
    "\n",
    "    running_vloss = 0.0\n",
    "    running_vacc = 0.0\n",
    "    for i, vdata in enumerate(validation_loader):\n",
    "        vinputs, vlabels = vdata\n",
    "        voutputs = model(vinputs).detach()\n",
    "        vacc  = accuracy_score(vlabels.cpu(), [1 if x > 0.5 else 0 for x in voutputs.cpu()])\n",
    "        running_vacc += vacc\n",
    "        vloss = loss_fn(voutputs, vlabels)\n",
    "        running_vloss += vloss\n",
    "\n",
    "    avg_vloss = running_vloss / (i + 1)\n",
    "    avg_vacc = running_vacc / (i + 1)\n",
    "    print('LOSS train {} valid {}'.format(avg_loss, avg_vloss))\n",
    "\n",
    "    # Log the running loss averaged per batch\n",
    "    # for both training and validation\n",
    "    writer.add_scalars('Training vs. Validation Loss',\n",
    "                    { 'Training' : avg_loss, 'Validation' : avg_vloss },\n",
    "                    epoch + 1)\n",
    "    writer.add_scalars('Training vs. Validation Accuracy',\n",
    "                    { 'Training' : acc, 'Validation' : avg_vacc },\n",
    "                    epoch + 1)\n",
    "    #writer.flush()\n",
    "\n",
    "    # Track best performance, and save the model's state\n",
    "    if avg_vloss < best_vloss:\n",
    "        best_vloss = avg_vloss\n",
    "        model_path = 'model_{}_{}'.format(timestamp, epoch)\n",
    "        torch.save(model.state_dict(), model_path)\n"
   ]
  },
  {
   "cell_type": "code",
   "execution_count": 86,
   "metadata": {},
   "outputs": [],
   "source": [
    "model.train(False)\n",
    "preds_test = []\n",
    "for i, vdata in enumerate(test_loader):\n",
    "    vinputs = vdata\n",
    "    voutputs = model(vinputs).detach()\n",
    "    preds_test.extend(voutputs.cpu())\n",
    "\n"
   ]
  },
  {
   "cell_type": "code",
   "execution_count": 93,
   "metadata": {},
   "outputs": [
    {
     "name": "stdout",
     "output_type": "stream",
     "text": [
      "-10000.0\n"
     ]
    }
   ],
   "source": [
    "preds = np.ones_like(preds_test)\n",
    "preds[np.where(np.array(preds_test)<0.5)] = -1\n",
    "preds = pd.DataFrame(preds)"
   ]
  },
  {
   "cell_type": "code",
   "execution_count": 99,
   "metadata": {},
   "outputs": [],
   "source": [
    "import csv\n",
    "def create_csv_submission(ids, y_pred, name):\n",
    "    \"\"\"\n",
    "    Creates an output file in .csv format for submission to Kaggle or AIcrowd\n",
    "    Arguments: ids (event ids associated with each prediction)\n",
    "               y_pred (predicted class labels)\n",
    "               name (string name of .csv output file to be created)\n",
    "    \"\"\"\n",
    "    with open(name, \"w\") as csvfile:\n",
    "        fieldnames = [\"Id\", \"Prediction\"]\n",
    "        writer = csv.DictWriter(csvfile, delimiter=\",\", fieldnames=fieldnames)\n",
    "        writer.writeheader()\n",
    "        for r1, r2 in zip(ids, y_pred):\n",
    "            writer.writerow({\"Id\": int(r1)+1, \"Prediction\": int(r2)})\n",
    "\n",
    "create_csv_submission(preds.index.values.tolist(), np.asarray(preds), \"____test____.csv\")"
   ]
  },
  {
   "cell_type": "code",
   "execution_count": 5,
   "metadata": {},
   "outputs": [
    {
     "name": "stdout",
     "output_type": "stream",
     "text": [
      "vocab_cut.txt\n",
      "train_neg_full.txt\n",
      "train_pos_full.txt\n",
      "train_pos_full_clean.txt\n",
      "vocab_full.txt\n",
      "test_data_clean.txt\n",
      "train_neg_full_clean.txt\n",
      "Training set has 1778688 instances\n",
      "Validation set has 444672 instances\n",
      "Test set has 10000 instances\n",
      "EPOCH 1:\n"
     ]
    },
    {
     "name": "stderr",
     "output_type": "stream",
     "text": [
      "Epoch 0: 100%|██████████| 6948/6948 [04:55<00:00, 23.52batch/s, accuracy=0.691, loss=0.576]\n"
     ]
    },
    {
     "name": "stdout",
     "output_type": "stream",
     "text": [
      "LOSS train 0.6106715290807188 valid 0.6093485355377197\n",
      "EPOCH 2:\n"
     ]
    },
    {
     "name": "stderr",
     "output_type": "stream",
     "text": [
      "Epoch 1: 100%|██████████| 6948/6948 [04:51<00:00, 23.85batch/s, accuracy=0.621, loss=0.653]\n"
     ]
    },
    {
     "name": "stdout",
     "output_type": "stream",
     "text": [
      "LOSS train 0.6015164870768785 valid 0.6066562533378601\n",
      "EPOCH 3:\n"
     ]
    },
    {
     "name": "stderr",
     "output_type": "stream",
     "text": [
      "Epoch 2: 100%|██████████| 6948/6948 [04:51<00:00, 23.80batch/s, accuracy=0.602, loss=0.623]\n"
     ]
    },
    {
     "name": "stdout",
     "output_type": "stream",
     "text": [
      "LOSS train 0.5949465315788984 valid 0.6048341989517212\n",
      "EPOCH 4:\n"
     ]
    },
    {
     "name": "stderr",
     "output_type": "stream",
     "text": [
      "Epoch 3: 100%|██████████| 6948/6948 [04:51<00:00, 23.83batch/s, accuracy=0.645, loss=0.615]\n"
     ]
    },
    {
     "name": "stdout",
     "output_type": "stream",
     "text": [
      "LOSS train 0.5915771478321403 valid 0.6049190163612366\n",
      "EPOCH 5:\n"
     ]
    },
    {
     "name": "stderr",
     "output_type": "stream",
     "text": [
      "Epoch 4: 100%|██████████| 6948/6948 [04:52<00:00, 23.74batch/s, accuracy=0.656, loss=0.584]\n"
     ]
    },
    {
     "name": "stdout",
     "output_type": "stream",
     "text": [
      "LOSS train 0.593359355116263 valid 0.6051402688026428\n",
      "EPOCH 6:\n"
     ]
    },
    {
     "name": "stderr",
     "output_type": "stream",
     "text": [
      "Epoch 5: 100%|██████████| 6948/6948 [04:51<00:00, 23.87batch/s, accuracy=0.656, loss=0.624]\n"
     ]
    },
    {
     "name": "stdout",
     "output_type": "stream",
     "text": [
      "LOSS train 0.5921900295652449 valid 0.6054492592811584\n"
     ]
    }
   ],
   "source": [
    "from course_helpers import *\n",
    "from helpers import *\n",
    "from tqdm import tqdm\n",
    "from sklearn.metrics import accuracy_score\n",
    "import torch\n",
    "from torch.nn import Sequential, Module, LSTM, ReLU, Linear, Sigmoid, Dropout, Embedding, RNN\n",
    "import torchvision\n",
    "# PyTorch TensorBoard support\n",
    "from torch.utils.tensorboard import SummaryWriter\n",
    "from datetime import datetime\n",
    "import torch.nn.functional as F\n",
    "import os\n",
    "os.environ['CUDA_LAUNCH_BLOCKING'] = \"1\"\n",
    "import csv\n",
    "def create_csv_submission(ids, y_pred, name):\n",
    "    \"\"\"\n",
    "    Creates an output file in .csv format for submission to Kaggle or AIcrowd\n",
    "    Arguments: ids (event ids associated with each prediction)\n",
    "               y_pred (predicted class labels)\n",
    "               name (string name of .csv output file to be created)\n",
    "    \"\"\"\n",
    "    with open(name, \"w\") as csvfile:\n",
    "        fieldnames = [\"Id\", \"Prediction\"]\n",
    "        writer = csv.DictWriter(csvfile, delimiter=\",\", fieldnames=fieldnames)\n",
    "        writer.writeheader()\n",
    "        for r1, r2 in zip(ids, y_pred):\n",
    "            writer.writerow({\"Id\": int(r1)+1, \"Prediction\": int(r2)})\n",
    "\n",
    "\n",
    "def train_one_epoch(epoch_index, tb_writer):\n",
    "    running_loss = 0.\n",
    "    last_loss = 0.\n",
    "    running_accuracy = 0.0\n",
    "\n",
    "    # Here, we use enumerate(training_loader) instead of\n",
    "    # iter(training_loader) so that we can track the batch\n",
    "    # index and do some intra-epoch reporting\n",
    "\n",
    "    with tqdm(training_loader, unit=\"batch\") as tepoch:\n",
    "        for i, data in enumerate(tepoch):\n",
    "            tepoch.set_description(f\"Epoch {epoch_index}\")\n",
    "\n",
    "\n",
    "    #for i, data in enumerate(tqdm(training_loader), unit= \"batches\", ):\n",
    "            # Every data instance is an input + label pair\n",
    "            inputs, labels = data\n",
    "\n",
    "            # Zero your gradients for every batch!\n",
    "            optimizer.zero_grad()\n",
    "\n",
    "\n",
    "            # Make predictions for this batch\n",
    "            outputs = model(inputs)\n",
    "            accuracy  = accuracy_score(labels.cpu(), [1 if x > 0.5 else 0 for x in outputs.cpu()])\n",
    "            # Compute the loss and its gradients\n",
    "            loss = loss_fn(outputs, labels)\n",
    "            loss.backward()\n",
    "\n",
    "            # Adjust learning weights\n",
    "            optimizer.step()\n",
    "            \n",
    "            # Gather data and report\n",
    "            running_loss += loss.item()\n",
    "            running_accuracy += accuracy\n",
    "\n",
    "            tepoch.set_postfix(loss=loss.item(), accuracy = accuracy)\n",
    "            if i % batch_size == batch_size-1:\n",
    "                last_loss = running_loss / batch_size # loss per batch\n",
    "                #print('  epoch {} batch {} loss: {}'.format(epoch_index, (i + 1)/batch_size, last_loss))\n",
    "                tb_x = epoch_index * len(training_loader) + i + 1\n",
    "                #print(tb_x)\n",
    "                tb_writer.add_scalar('Loss/train', last_loss, global_step = tb_x)\n",
    "                running_loss = 0.\n",
    "\n",
    "    return last_loss, running_accuracy/i\n",
    "\n",
    "\n",
    "class make_torch_dataset(torch.utils.data.Dataset):\n",
    "    def __init__(self, encodings, labels=[]):\n",
    "        self.encodings = encodings\n",
    "        self.labels = labels\n",
    "\n",
    "    def __getitem__(self, idx):\n",
    "        inp = self.encodings[idx]\n",
    "        label = self.labels[idx]\n",
    "        return inp, label\n",
    "\n",
    "    def __len__(self):\n",
    "        return len(self.encodings)\n",
    "\n",
    "class make_torch_testset(torch.utils.data.Dataset):\n",
    "    def __init__(self, encodings):\n",
    "        self.encodings = encodings\n",
    "\n",
    "    def __getitem__(self, idx):\n",
    "        inp = self.encodings[idx]\n",
    "        return inp\n",
    "\n",
    "    def __len__(self):\n",
    "        return len(self.encodings)\n",
    "\n",
    "class Blstm_classifier(Module):\n",
    "    def __init__(self, num_embeddings, embed_dim, glove_embd, max_len) -> None:\n",
    "        super().__init__()\n",
    "        self.emd =  Embedding(num_embeddings= num_embeddings, embedding_dim= embed_dim, _weight=glove_embd)\n",
    "        self.lstm1 = LSTM(input_size = embed_dim, hidden_size = 256, bidirectional = True, batch_first  = True)\n",
    "        self.lstm2 = LSTM(input_size = 512, hidden_size = 150, bidirectional = True,  batch_first  = True)\n",
    "        self.fc1 = Linear(300,128)\n",
    "        self.drp = Dropout(0.1)\n",
    "        self.fc2 = Linear(128, 64)\n",
    "        self.fc3 = Linear(64,1)\n",
    "        self.reg = Sigmoid()\n",
    "\n",
    "\n",
    "    def forward(self, x):\n",
    "        x = self.emd(x)\n",
    "        x = x.to(torch.float32)\n",
    "        x, states = self.lstm1(x)\n",
    "        x, states = self.lstm2(x)\n",
    "        x = F.relu(self.fc1(x[:,0]))\n",
    "        x = self.drp(x)\n",
    "        x = F.relu(self.fc2(x))\n",
    "        x = self.fc3(x)\n",
    "        x = self.reg(x)\n",
    "        x = x.reshape(x.shape[0])\n",
    "\n",
    "        return x\n",
    "\n",
    "\n",
    "class RNN_classifier(Module):\n",
    "    def __init__(self, num_embeddings, embed_dim, glove_embd, max_len) -> None:\n",
    "        super().__init__()\n",
    "        self.emd =  Embedding(num_embeddings= num_embeddings, embedding_dim= embed_dim, _weight=glove_embd)\n",
    "        self.rnn1 = RNN(input_size = embed_dim, hidden_size = 256, batch_first = True)\n",
    "        self.fc1 = Linear(256,128)\n",
    "        self.drp = Dropout(0.1)\n",
    "        self.fc2 = Linear(128, 64)\n",
    "        self.fc3 = Linear(64,1)\n",
    "        self.reg = Sigmoid()\n",
    "\n",
    "\n",
    "    def forward(self, x):\n",
    "        x = self.emd(x)\n",
    "        x = x.to(torch.float32)\n",
    "        x, _ = self.rnn1(x)\n",
    "        x = F.relu(self.fc1(x[:,0]))\n",
    "        x = self.drp(x)\n",
    "        x = F.relu(self.fc2(x))\n",
    "        x = self.fc3(x)\n",
    "        x = self.reg(x)\n",
    "        x = x.reshape(x.shape[0])\n",
    "\n",
    "        return x\n",
    "class lstm_classifier(Module):\n",
    "    def __init__(self, num_embeddings, embed_dim, glove_embd, max_len) -> None:\n",
    "        super().__init__()\n",
    "        self.emd =  Embedding(num_embeddings= num_embeddings, embedding_dim= embed_dim, _weight=glove_embd)\n",
    "        self.lstm1 = LSTM(input_size = embed_dim, hidden_size = 256,batch_first  = True)\n",
    "        self.lstm2 = LSTM(input_size = 256, hidden_size = 150, batch_first  = True)\n",
    "        self.fc1 = Linear(150,128)\n",
    "        self.drp = Dropout(0.1)\n",
    "        self.fc2 = Linear(128, 64)\n",
    "        self.fc3 = Linear(64,1)\n",
    "        self.reg = Sigmoid()\n",
    "\n",
    "\n",
    "    def forward(self, x):\n",
    "        x = self.emd(x)\n",
    "        x = x.to(torch.float32)\n",
    "        x, _ = self.lstm1(x)\n",
    "        x, _ = self.lstm2(x)\n",
    "        x = F.relu(self.fc1(x[:,0]))\n",
    "        x = self.drp(x)\n",
    "        x = F.relu(self.fc2(x))\n",
    "        x = self.fc3(x)\n",
    "        x = self.reg(x)\n",
    "        x = x.reshape(x.shape[0])\n",
    "\n",
    "        return x\n",
    "\n",
    "\n",
    "##data preprocessing \n",
    "DATA_PATH = 'full_data/'\n",
    "Dataset = read(DATA_PATH)\n",
    "\n",
    "\n",
    "embd = DATA_PATH+'embeddings_50'\n",
    "embedding = np.load(embd+'.npy')\n",
    "glove_embd = embedding\n",
    "\n",
    "\n",
    "test_set = pd.read_csv(DATA_PATH+'test_set_token.csv')\n",
    "train_set = pd.read_csv(DATA_PATH+'train_set_token_full.csv', )\n",
    "num_embeddings  = glove_embd.shape[0]\n",
    "embed_dim = glove_embd.shape[1]\n",
    "max_len = train_set.shape[1]-1\n",
    "batch_size = 256\n",
    "n_batches = train_set.shape[0]/batch_size\n",
    "\n",
    "X_train = train_set.loc[:, train_set.columns!='sentiment']\n",
    "Y_train = train_set['sentiment']\n",
    "device = torch.device('cpu')\n",
    "if torch.cuda.is_available():\n",
    "    device = torch.device('cuda')\n",
    "glove_embd = torch.tensor(glove_embd)\n",
    "\n",
    "data_split = (X_train.shape[0]*0.2)%batch_size\n",
    "data_split  = X_train.shape[0]*0.2 - data_split\n",
    "data_split=data_split/2\n",
    "remd = -data_split + X_train.shape[0] - data_split\n",
    "addedv = remd%data_split\n",
    "\n",
    "X_val =  torch.tensor(pd.concat([X_train[:int(data_split)], X_train[-int(data_split):]],  axis=0, ignore_index=True).reset_index(drop=True).to_numpy()).to(device)\n",
    "Y_val =  torch.tensor(pd.concat([Y_train[:int(data_split)], Y_train[-int(data_split):]],  axis=0, ignore_index=True).reset_index(drop=True).to_numpy(dtype='float32')).to(device)\n",
    "X_train = torch.tensor(X_train[int(data_split+addedv):-int(data_split)].reset_index(drop=True).to_numpy()).to(device)\n",
    "Y_train =  torch.tensor(Y_train[int(data_split+addedv):-int(data_split)].reset_index(drop=True).to_numpy(dtype='float32')).to(device)\n",
    "X_test =  torch.tensor(test_set.to_numpy()).to(device)\n",
    "\n",
    "\n",
    "\n",
    "\n",
    "train_dataset = make_torch_dataset(X_train, Y_train)\n",
    "val_dataset = make_torch_dataset(X_val, Y_val)\n",
    "test_dataset = make_torch_testset(X_test)\n",
    "\n",
    "# Create data loaders for our datasets; shuffle for training, not for validation\n",
    "training_loader = torch.utils.data.DataLoader(train_dataset, batch_size=batch_size, shuffle=True, num_workers=0)\n",
    "validation_loader = torch.utils.data.DataLoader(val_dataset, batch_size=batch_size, shuffle=False, num_workers=0)\n",
    "test_loader = torch.utils.data.DataLoader(test_dataset, batch_size=batch_size, shuffle=False, num_workers=0)\n",
    "\n",
    "# Report split sizes\n",
    "print('Training set has {} instances'.format(len(train_dataset)))\n",
    "print('Validation set has {} instances'.format(len(val_dataset)))\n",
    "print('Test set has {} instances'.format(len(test_dataset)))\n",
    "\n",
    "\n",
    "\n",
    "# initializing model and losses\n",
    "model = RNN_classifier(num_embeddings, embed_dim, glove_embd, max_len).to(device)\n",
    "loss_fn = torch.nn.BCELoss()\n",
    "optimizer = torch.optim.Adam(model.parameters(), lr=0.001)\n",
    "scheduler = torch.optim.lr_scheduler.MultiStepLR(optimizer, milestones=[2,4], gamma=0.5)\n",
    "\n",
    "\n",
    "# starting main training loop\n",
    "timestamp = datetime.now().strftime('%Y%m%d_%H%M%S')\n",
    "writer = SummaryWriter('full_runs/fashion_trainer_{}'.format(timestamp))\n",
    "\n",
    "EPOCHS = 6\n",
    "\n",
    "best_vloss = 1_000_000.\n",
    "\n",
    "\n",
    "\n",
    "for epoch in range(EPOCHS):\n",
    "    print('EPOCH {}:'.format(epoch + 1))\n",
    "\n",
    "    # Make sure gradient tracking is on, and do a pass over the data\n",
    "    model.train(True)\n",
    "    avg_loss, acc = train_one_epoch(epoch, writer)\n",
    "    scheduler.step()\n",
    "\n",
    "    # # We don't need gradients on to do reporting\n",
    "    model.train(False)\n",
    "\n",
    "    running_vloss = 0.0\n",
    "    running_vacc = 0.0\n",
    "    for i, vdata in enumerate(validation_loader):\n",
    "        vinputs, vlabels = vdata\n",
    "        voutputs = model(vinputs).detach()\n",
    "        vacc  = accuracy_score(vlabels.cpu(), [1 if x > 0.5 else 0 for x in voutputs.cpu()])\n",
    "        running_vacc += vacc\n",
    "        vloss = loss_fn(voutputs, vlabels)\n",
    "        running_vloss += vloss\n",
    "\n",
    "    avg_vloss = running_vloss / (i + 1)\n",
    "    avg_vacc = running_vacc / (i + 1)\n",
    "    print('LOSS train {} valid {}'.format(avg_loss, avg_vloss))\n",
    "\n",
    "    # Log the running loss averaged per batch\n",
    "    # for both training and validation\n",
    "    writer.add_scalars('Training vs. Validation/Loss',\n",
    "                    { 'Training' : avg_loss, 'Validation' : avg_vloss },\n",
    "                    epoch + 1)\n",
    "    writer.add_scalars('Training vs. Validation/Accuracy',\n",
    "                    { 'Training' : acc, 'Validation' : avg_vacc },\n",
    "                    epoch + 1)\n",
    "    #writer.flush()\n",
    "\n",
    "    # Track best performance, and save the model's state\n",
    "    if avg_vloss < best_vloss:\n",
    "        best_vloss = avg_vloss\n",
    "        model_path = 'model_{}_{}'.format(timestamp, epoch)\n",
    "        torch.save(model.state_dict(), model_path)\n",
    "\n",
    "\n",
    "\n",
    "\n",
    "model.train(False)\n",
    "preds_test = []\n",
    "for i, vdata in enumerate(test_loader):\n",
    "    vinputs = vdata\n",
    "    voutputs = model(vinputs).detach()\n",
    "    preds_test.extend(voutputs.cpu())\n",
    "preds = np.ones_like(preds_test)\n",
    "preds[np.where(np.array(preds_test)<0.5)] = -1\n",
    "preds = pd.DataFrame(preds)\n",
    "\n",
    "create_csv_submission(preds.index.values.tolist(), np.asarray(preds), 'model_{}_.csv'.format(timestamp))"
   ]
  }
 ],
 "metadata": {
  "kernelspec": {
   "display_name": "ml",
   "language": "python",
   "name": "python3"
  },
  "language_info": {
   "codemirror_mode": {
    "name": "ipython",
    "version": 3
   },
   "file_extension": ".py",
   "mimetype": "text/x-python",
   "name": "python",
   "nbconvert_exporter": "python",
   "pygments_lexer": "ipython3",
   "version": "3.10.8 (main, Nov 24 2022, 14:13:03) [GCC 11.2.0]"
  },
  "orig_nbformat": 4,
  "vscode": {
   "interpreter": {
    "hash": "bd2e759ece46f7968ecb77e124a003f65bcd7fd10d71dbb77ace05354c0e1a30"
   }
  }
 },
 "nbformat": 4,
 "nbformat_minor": 2
}
